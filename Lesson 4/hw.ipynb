{
 "cells": [
  {
   "cell_type": "code",
   "execution_count": 24,
   "outputs": [],
   "source": [
    "%load_ext autoreload\n",
    "%autoreload 2\n",
    "\n",
    "# from resource import *\n",
    "\n",
    "%matplotlib inline"
   ],
   "metadata": {
    "collapsed": false,
    "ExecuteTime": {
     "end_time": "2023-11-11T01:57:59.733979600Z",
     "start_time": "2023-11-11T01:57:59.243863300Z"
    }
   },
   "id": "56fd2f5dc74ce4f6"
  },
  {
   "cell_type": "markdown",
   "source": [
    "## 1 задание"
   ],
   "metadata": {
    "collapsed": false
   },
   "id": "2d065906188956cd"
  },
  {
   "cell_type": "markdown",
   "source": [
    "В коде из методички реализуйте один или несколько критериев останова: минимальное количество объектов в листе (min_leaf), максимальная глубина дерева, максимальное количество листьев и т.д. Добавьте эти критерии в параметры функции build_tree и проверьте ее работоспособность."
   ],
   "metadata": {
    "collapsed": false
   },
   "id": "fcd3cbf635a7664c"
  },
  {
   "cell_type": "code",
   "execution_count": null,
   "outputs": [],
   "source": [
    "# https://www.youtube.com/watch?v=h7FF6EcXDqA&list=PLEwK9wdS5g0oZwFwoQT-BrjmkazJWXxfe&index=10"
   ],
   "metadata": {
    "collapsed": false
   },
   "id": "a6b417f1dbcd278c"
  },
  {
   "cell_type": "code",
   "execution_count": null,
   "outputs": [],
   "source": [],
   "metadata": {
    "collapsed": false
   },
   "id": "b968e187c9ca25b8"
  },
  {
   "cell_type": "code",
   "execution_count": null,
   "outputs": [],
   "source": [],
   "metadata": {
    "collapsed": false
   },
   "id": "fd3572a1b51f328"
  },
  {
   "cell_type": "code",
   "execution_count": null,
   "outputs": [],
   "source": [],
   "metadata": {
    "collapsed": false
   },
   "id": "b28f1fb11f27a71a"
  }
 ],
 "metadata": {
  "kernelspec": {
   "display_name": "Python 3",
   "language": "python",
   "name": "python3"
  },
  "language_info": {
   "codemirror_mode": {
    "name": "ipython",
    "version": 2
   },
   "file_extension": ".py",
   "mimetype": "text/x-python",
   "name": "python",
   "nbconvert_exporter": "python",
   "pygments_lexer": "ipython2",
   "version": "2.7.6"
  }
 },
 "nbformat": 4,
 "nbformat_minor": 5
}
