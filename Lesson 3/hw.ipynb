{
 "cells": [
  {
   "cell_type": "code",
   "execution_count": 1,
   "outputs": [],
   "source": [
    "%load_ext autoreload\n",
    "%autoreload 2\n",
    "\n",
    "from resource import *\n",
    "\n",
    "%matplotlib inline\n",
    "plt.style.use('dark_background')"
   ],
   "metadata": {
    "collapsed": false,
    "pycharm": {
     "name": "#%%\n"
    },
    "ExecuteTime": {
     "end_time": "2023-10-27T14:13:14.662838700Z",
     "start_time": "2023-10-27T14:13:14.125544500Z"
    }
   }
  },
  {
   "cell_type": "markdown",
   "source": [
    "1. Измените функцию calc_logloss так, чтобы нули по возможности не попадали в np.log (как вариант - использовать np.clip или np.where)."
   ],
   "metadata": {
    "collapsed": false,
    "pycharm": {
     "name": "#%% md\n"
    }
   }
  },
  {
   "cell_type": "code",
   "execution_count": 2,
   "outputs": [],
   "source": [
    "X = np.array([[1, 1, 2, 1, 3, 0, 5, 10, 1, 2],  # стаж репетитора\n",
    "              [500, 700, 750, 600, 1450, 800, 1500, 2000, 450, 1000],  # средняя стоимость занятия\n",
    "              [1, 1, 2, 1, 2, 1, 3, 3, 1, 2]], dtype=np.float64).T  # квалификация репетитора\n",
    "\n",
    "y = np.array([0, 0, 1, 0, 1, 0, 1, 0, 1, 1], dtype=np.float64)  # поступил или нет ученик на специальность Математика"
   ],
   "metadata": {
    "collapsed": false,
    "pycharm": {
     "name": "#%%\n"
    },
    "ExecuteTime": {
     "end_time": "2023-10-27T14:13:14.691161300Z",
     "start_time": "2023-10-27T14:13:14.367875100Z"
    }
   }
  },
  {
   "cell_type": "code",
   "execution_count": 3,
   "metadata": {
    "collapsed": true,
    "pycharm": {
     "name": "#%%\n"
    },
    "ExecuteTime": {
     "end_time": "2023-10-27T14:13:14.694160600Z",
     "start_time": "2023-10-27T14:13:14.522839400Z"
    }
   },
   "outputs": [],
   "source": [
    "def calc_logloss(y, y_pred):\n",
    "    y_pred_clipped = np.where(y_pred == 0, 1e-15, np.where(y_pred == 1, 1 - 1e-15, y_pred))\n",
    "    # y_pred_clipped = np.clip(y_pred, 1e-15, 1 - 1e-15)\n",
    "    # err = np.mean(-y * np.log(y_pred + 1e-15) - (1.0 - y) * np.log(1.0 - y_pred + 1e-15))\n",
    "    err = np.mean(-y * np.log(y_pred_clipped) - (1.0 - y) * np.log(1.0 - y_pred_clipped))\n",
    "    return err"
   ]
  },
  {
   "cell_type": "code",
   "execution_count": 4,
   "outputs": [
    {
     "data": {
      "text/plain": "34.53957599234088"
     },
     "execution_count": 4,
     "metadata": {},
     "output_type": "execute_result"
    }
   ],
   "source": [
    "# Пример применения\n",
    "y_true = 0\n",
    "y_pred = 1\n",
    "calc_logloss(y_true, y_pred)"
   ],
   "metadata": {
    "collapsed": false,
    "pycharm": {
     "name": "#%%\n"
    },
    "ExecuteTime": {
     "end_time": "2023-10-27T14:13:14.852110500Z",
     "start_time": "2023-10-27T14:13:14.677161200Z"
    }
   }
  },
  {
   "cell_type": "markdown",
   "source": [
    "2. На данных из урока изучите влияние гиперпараметров на ошибку алгоритма. Подберите аргументы функции eval_LR_model для логистической регрессии таким образом, чтобы log loss не превышал значение 0.3 (0.1). Как изменились веса?"
   ],
   "metadata": {
    "collapsed": false,
    "pycharm": {
     "name": "#%% md\n"
    }
   }
  },
  {
   "cell_type": "code",
   "execution_count": 5,
   "outputs": [],
   "source": [
    "def sigmoid(z):\n",
    "    return 1 / (1 + np.exp(-z))"
   ],
   "metadata": {
    "collapsed": false,
    "pycharm": {
     "name": "#%%\n"
    },
    "ExecuteTime": {
     "end_time": "2023-10-27T14:13:14.999168Z",
     "start_time": "2023-10-27T14:13:14.838110500Z"
    }
   }
  },
  {
   "cell_type": "markdown",
   "source": [
    "Масштабируем колонку со стоимостью занятия"
   ],
   "metadata": {
    "collapsed": false
   }
  },
  {
   "cell_type": "code",
   "execution_count": 6,
   "outputs": [
    {
     "data": {
      "text/plain": "array([-0.97958969, -0.56713087, -0.46401617, -0.77336028,  0.97958969,\n       -0.36090146,  1.08270439,  2.11385144, -1.08270439,  0.05155735])"
     },
     "execution_count": 6,
     "metadata": {},
     "output_type": "execute_result"
    }
   ],
   "source": [
    "scaler = StandardScaler()\n",
    "X_scaled = X.copy()\n",
    "X_scaled[:, 1] = scaler.fit_transform(X_scaled[:, 1])\n",
    "X_scaled[:, 1]"
   ],
   "metadata": {
    "collapsed": false,
    "ExecuteTime": {
     "end_time": "2023-10-27T14:13:15.158365Z",
     "start_time": "2023-10-27T14:13:14.992168400Z"
    }
   }
  },
  {
   "cell_type": "code",
   "execution_count": 7,
   "outputs": [],
   "source": [
    "def calc_gradient(samples, targets, yhat):\n",
    "    return 2 * (yhat - targets) @ samples / samples.shape[0]\n",
    "\n",
    "\n",
    "def predict(samples, weight):\n",
    "    return samples @ weight\n",
    "\n",
    "\n",
    "def update(samples, targets, yhat, weight, alpha):\n",
    "    return weight - alpha * calc_gradient(samples, targets, yhat)"
   ],
   "metadata": {
    "collapsed": false,
    "ExecuteTime": {
     "end_time": "2023-10-27T14:13:15.314930200Z",
     "start_time": "2023-10-27T14:13:15.151365400Z"
    }
   }
  },
  {
   "cell_type": "code",
   "execution_count": 8,
   "outputs": [],
   "source": [
    "def eval_lr_model(samples, targets,\n",
    "                  iterations,\n",
    "                  alpha=1e-3, min_los=1,\n",
    "                  print_cost=True, fit_intercept=True):\n",
    "    np.random.seed(42)\n",
    "\n",
    "    if fit_intercept:\n",
    "        samples = np.hstack((np.ones((samples.shape[0], 1)), samples))\n",
    "    w = np.random.randn(samples.shape[1])\n",
    "\n",
    "    loss = calc_logloss(targets, sigmoid(np.dot(samples, w)))\n",
    "    for i in range(1, iterations + 1):\n",
    "        yhat = sigmoid(predict(samples, w))\n",
    "        new_weight = update(samples, targets, yhat, w, alpha)\n",
    "        loss = calc_logloss(targets, sigmoid(np.dot(samples, new_weight)))\n",
    "        if i < iterations and loss < min_los:\n",
    "            print(f'Model iterations: {i}, loss: {loss}, weight={w} ...')\n",
    "            break\n",
    "        if print_cost == True and i % 100 == 0:\n",
    "            print(i, w, loss)\n",
    "        w = new_weight\n",
    "    return w, loss"
   ],
   "metadata": {
    "collapsed": false,
    "ExecuteTime": {
     "end_time": "2023-10-27T14:13:15.472012700Z",
     "start_time": "2023-10-27T14:13:15.303931Z"
    }
   }
  },
  {
   "cell_type": "code",
   "execution_count": 9,
   "outputs": [
    {
     "name": "stdout",
     "output_type": "stream",
     "text": [
      "100 [-4.93512183 -0.27160891 -0.11835431  6.59492325] 1.23432503325964\n",
      "Model iterations: 151, loss: 0.29944149711205514, weight=[-7.80817012 -1.5183843  -0.74699779  7.3319981 ] ...\n"
     ]
    },
    {
     "data": {
      "text/plain": "(array([-7.80817012, -1.5183843 , -0.74699779,  7.3319981 ]),\n 0.29944149711205514)"
     },
     "execution_count": 9,
     "metadata": {},
     "output_type": "execute_result"
    }
   ],
   "source": [
    "eval_lr_model(X_scaled, y, iterations=1000, alpha=1, min_los=0.3, print_cost=True)"
   ],
   "metadata": {
    "collapsed": false,
    "pycharm": {
     "name": "#%%\n"
    },
    "ExecuteTime": {
     "end_time": "2023-10-27T14:13:15.649688800Z",
     "start_time": "2023-10-27T14:13:15.465012700Z"
    }
   }
  },
  {
   "cell_type": "code",
   "execution_count": 10,
   "outputs": [
    {
     "name": "stdout",
     "output_type": "stream",
     "text": [
      "100 [-4.93512183 -0.27160891 -0.11835431  6.59492325] 1.23432503325964\n",
      "200 [-8.18720769 -1.05100497 -1.38340955  8.96806899] 1.3523364339574155\n",
      "300 [-10.87310042  -1.7398129   -2.19145519   9.25699022] 0.26645782813403157\n",
      "400 [-12.10337872  -1.77533439  -2.57895763  10.22992917] 0.2510543069728562\n",
      "500 [-13.22441149  -1.81729246  -2.94121175  11.11077753] 0.2387631620297978\n",
      "600 [-14.26080562  -1.85894107  -3.27157134  11.92983339] 0.22822782066885033\n",
      "700 [-15.22830907  -1.89854516  -3.57680676  12.69777238] 0.21899154727697406\n",
      "800 [-16.13696825  -1.93452009  -3.86096565  13.42258182] 0.2107733406994703\n",
      "900 [-16.99314126  -1.96451023  -4.12628888  14.11222864] 0.2034391112104028\n",
      "1000 [-17.80262577  -2.00499038  -4.37290107  14.77419966] 0.197356743469764\n",
      "1100 [-18.5791518   -2.07127072  -4.60511659  15.40448605] 0.1920682462122951\n",
      "1200 [-19.32463112  -2.13612009  -4.82710858  16.00939239] 0.1871967995027222\n",
      "1300 [-20.04144569  -2.19864055  -5.03995461  16.59102326] 0.18269393442296059\n",
      "1400 [-20.73176212  -2.25898349  -5.24439911  17.1511047 ] 0.17851899447397052\n",
      "1500 [-21.39749863  -2.3172886   -5.44109251  17.69117581] 0.17463720253210405\n",
      "1600 [-22.04036926  -2.37368333  -5.63061124  18.21261666] 0.17101855993339182\n",
      "1700 [-22.66191564  -2.42828431  -5.81346987  18.71667173] 0.1676370141047751\n",
      "1800 [-23.26353142  -2.48119844  -5.99013041  19.20446828] 0.16446981140211578\n",
      "1900 [-23.84648178  -2.53252397  -6.16100966  19.67703121] 0.16149698283199446\n",
      "2000 [-24.41191923  -2.58235133  -6.32648509  20.13529529] 0.1587009283373356\n",
      "2100 [-24.9608969   -2.6307639   -6.48689975  20.58011548] 0.15606607621310015\n",
      "2200 [-25.49437961  -2.6778387   -6.64256636  21.01227565] 0.1535786010680747\n",
      "2300 [-26.01325342  -2.72364698  -6.79377075  21.43249614] 0.1512261882263351\n",
      "2400 [-26.51833382  -2.76825474  -6.94077486  21.84144028] 0.1489978354951232\n",
      "2500 [-27.01037293  -2.81172319  -7.08381922  22.2397201 ] 0.14688368534856808\n",
      "2600 [-27.49006569  -2.85410924  -7.22312522  22.62790133] 0.14487488210572746\n",
      "2700 [-27.95805537  -2.89546581  -7.35889706  23.0065078 ] 0.1429634498108731\n",
      "2800 [-28.41493843  -2.93584219  -7.49132338  23.37602535] 0.1411421873763002\n",
      "2900 [-28.86126884  -2.97528438  -7.6205788   23.73690532] 0.1394045782029054\n",
      "3000 [-29.29756185  -3.01383532  -7.74682524  24.08956762] 0.13774471200478053\n",
      "3100 [-29.72429747  -3.05153518  -7.87021305  24.43440347] 0.1361572169678149\n",
      "3200 [-30.14192345  -3.08842156  -7.99088212  24.77177792] 0.13463720069473786\n",
      "3300 [-30.5508581   -3.1245297   -8.10896272  25.10203201] 0.13318019864886563\n",
      "3400 [-30.95149264  -3.15989268  -8.22457642  25.42548479] 0.13178212901981654\n",
      "3500 [-31.34419352  -3.19454156  -8.33783677  25.74243512] 0.13043925310695317\n",
      "3600 [-31.72930434  -3.22850556  -8.44884997  26.05316328] 0.12914814045813408\n",
      "3700 [-32.10714768  -3.26181218  -8.55771552  26.35793241] 0.12790563811859204\n",
      "3800 [-32.47802676  -3.29448735  -8.66452671  26.65698989] 0.126708843442091\n",
      "3900 [-32.84222684  -3.32655551  -8.76937113  26.95056851] 0.12555507999767365\n",
      "4000 [-33.20001668  -3.35803975  -8.87233112  27.23888755] 0.12444187617325513\n",
      "4100 [-33.55164967  -3.38896189  -8.97348416  27.52215381] 0.12336694613439254\n",
      "4200 [-33.89736497  -3.41934257  -9.07290323  27.8005625 ] 0.122328172844654\n",
      "4300 [-34.23738855  -3.44920133  -9.17065717  28.07429806] 0.12132359289468964\n",
      "4400 [-34.57193412  -3.47855668  -9.26681094  28.34353493] 0.12035138292159464\n",
      "4500 [-34.90120396  -3.5074262   -9.36142594  28.60843825] 0.11940984742948017\n",
      "4600 [-35.22538969  -3.53582654  -9.45456023  28.86916447] 0.11849740784717884\n",
      "4700 [-35.54467303  -3.56377355  -9.54626876  29.12586196] 0.11761259268039685\n",
      "4800 [-35.85922642  -3.59128227  -9.63660361  29.37867154] 0.11675402863393747\n",
      "4900 [-36.16921366  -3.61836704  -9.72561416  29.62772694] 0.11592043259537017\n",
      "5000 [-36.47479042  -3.64504149  -9.81334729  29.87315531] 0.1151106043850719\n",
      "5100 [-36.77610481  -3.67131861  -9.8998475   30.11507761] 0.11432342018925983\n",
      "5200 [-37.0732978   -3.69721079  -9.98515711  30.35360899] 0.11355782660275889\n",
      "5300 [-37.3665037   -3.72272985 -10.06931638  30.58885915] 0.11281283521700672\n",
      "5400 [-37.65585056  -3.74788708 -10.15236364  30.82093268] 0.1120875176964194\n",
      "5500 [-37.94146051  -3.77269326 -10.23433539  31.04992939] 0.11138100129286495\n",
      "5600 [-38.22345018  -3.79715869 -10.31526645  31.27594453] 0.110692464753768\n",
      "5700 [-38.50193094  -3.82129324 -10.39519002  31.49906912] 0.11002113458441594\n",
      "5800 [-38.77700926  -3.84510634 -10.47413782  31.71939016] 0.10936628162945479\n",
      "5900 [-39.04878699  -3.86860703 -10.55214012  31.93699086] 0.10872721794242975\n",
      "6000 [-39.31736156  -3.89180397 -10.62922587  32.15195086] 0.10810329391563298\n",
      "6100 [-39.58282629  -3.91470546 -10.70542277  32.36434643] 0.10749389564550202\n",
      "6200 [-39.84527061  -3.93731947 -10.7807573   32.57425066] 0.10689844251145819\n",
      "6300 [-40.10478022  -3.95965364 -10.85525485  32.78173361] 0.10631638494839313\n",
      "6400 [-40.36143734  -3.98171533 -10.92893971  32.98686248] 0.10574720239507267\n",
      "6500 [-40.61532086  -4.00351157 -11.00183521  33.1897018 ] 0.10519040140254185\n",
      "6600 [-40.86650655  -4.02504916 -11.07396369  33.39031349] 0.10464551388823844\n",
      "6700 [-41.11506717  -4.04633461 -11.1453466   33.58875706] 0.10411209552294223\n",
      "6800 [-41.36107268  -4.06737421 -11.21600453  33.78508972] 0.10358972423898108\n",
      "6900 [-41.60459033  -4.088174   -11.28595728  33.97936648] 0.10307799884922739\n",
      "7000 [-41.84568483  -4.10873979 -11.35522385  34.17164026] 0.10257653776745099\n",
      "7100 [-42.08441847  -4.1290772  -11.42382253  34.36196201] 0.10208497782148426\n",
      "7200 [-42.3208512   -4.14919163 -11.49177091  34.55038078] 0.10160297315147568\n",
      "7300 [-42.55504081  -4.1690883  -11.55908591  34.73694385] 0.10113019418621819\n",
      "7400 [-42.78704296  -4.18877223 -11.62578383  34.92169678] 0.10066632669119872\n",
      "7500 [-43.01691134  -4.20824829 -11.69188037  35.10468348] 0.10021107088259462\n",
      "Model iterations: 7547, loss: 0.09999999367728905, weight=[-43.12422716  -4.21733156 -11.72274232  35.19008921] ...\n"
     ]
    },
    {
     "data": {
      "text/plain": "(array([-43.12422716,  -4.21733156, -11.72274232,  35.19008921]),\n 0.09999999367728905)"
     },
     "execution_count": 10,
     "metadata": {},
     "output_type": "execute_result"
    }
   ],
   "source": [
    "eval_lr_model(X_scaled, y, iterations=10000, alpha=1, min_los=0.1, print_cost=True)"
   ],
   "metadata": {
    "collapsed": false,
    "ExecuteTime": {
     "end_time": "2023-10-27T14:13:16.999354100Z",
     "start_time": "2023-10-27T14:13:15.649688800Z"
    }
   }
  },
  {
   "cell_type": "code",
   "execution_count": 11,
   "outputs": [],
   "source": [
    "from matplotlib.colors import ListedColormap\n",
    "\n",
    "\n",
    "class LogisticRegression(ElasticGradientLinearRegression):\n",
    "    def __init__(self,\n",
    "                 threshold: float = 0.7,\n",
    "                 **kwargs):\n",
    "        super().__init__(**kwargs)\n",
    "        self.threshold = threshold\n",
    "\n",
    "    def loss(self):\n",
    "        eps = 1e-15\n",
    "        yhat = self.predict()\n",
    "\n",
    "        l1_term = self.l1_penalty * np.sum(self.weight[1:])\n",
    "        l2_term = (self.l2_penalty / 2) * np.sum(np.square(self.weight[1:]))\n",
    "\n",
    "        y_hat_clipped = np.where(yhat == 0, eps, np.where(yhat == 1, 1 - eps, yhat))\n",
    "\n",
    "        loss = np.mean(-(self.targets * np.log(y_hat_clipped) + (1 - self.targets) * np.log(\n",
    "            1 - y_hat_clipped))) + l1_term + l2_term\n",
    "        return loss\n",
    "\n",
    "    @staticmethod\n",
    "    def sigmoid(z):\n",
    "        return 1 / (1 + np.exp(-z))\n",
    "\n",
    "    def predict(self):\n",
    "        return self.sigmoid(self.samples @ self.weight)\n",
    "\n",
    "    def to_class(self, logit):\n",
    "        return (logit >= self.threshold) * 1\n",
    "\n",
    "    def calc_predict(self):\n",
    "        yhat = self.predict()\n",
    "        return self.to_class(yhat)\n",
    "\n",
    "    def classification_report(self):\n",
    "        tp = tn = fp = fn = 0\n",
    "\n",
    "        yhat = self.calc_predict()\n",
    "        total = yhat.size\n",
    "        n = np.sum(yhat == 0)\n",
    "        p = np.sum(yhat == 1)\n",
    "        \n",
    "        for yhat_i, yi in zip(yhat, self.targets):\n",
    "            match yi, yhat_i:\n",
    "                case 1, 1: tp += 1\n",
    "                case 0, 0: tn += 1\n",
    "                case 1, 0: fn += 1\n",
    "                case 0, 1: fp += 1\n",
    "\n",
    "        print('True Positives:%.4f' % (tp / p), end='\\t')\n",
    "        print('True Negatives:%.4f' % (tn / n))\n",
    "        print('False Positives:%.4f' % (fp / p), end='\\t')\n",
    "        print('False Negatives:%.4f' % (fn / n))\n",
    "        print('Accuracy равно:%.4f' % ((tp + tn) / total))\n",
    "        print('Recall равно:%.4f' % (tp / (tp + fn)), end='\\t')\n",
    "        print('Precision равно:%.4f' % (tp / (tp + fp)))\n",
    "        print('F-мера равно:%.4f' % (tp / (tp + 0.5 * (fp + fn))))\n",
    "\n"
   ],
   "metadata": {
    "collapsed": false,
    "pycharm": {
     "name": "#%%\n"
    },
    "ExecuteTime": {
     "end_time": "2023-10-27T14:13:17.192360100Z",
     "start_time": "2023-10-27T14:13:17.000354300Z"
    }
   }
  },
  {
   "cell_type": "code",
   "execution_count": 12,
   "outputs": [
    {
     "name": "stdout",
     "output_type": "stream",
     "text": [
      "Cost at iteration 100 is 0.33284466941421276, weight=[-5.52300314 -1.16445871 -0.31450324  5.25517149]\n",
      "Model alpha: 1.0, diff_mse: 1e-15, iterations: 158, loss: 0.2987970911009851 ...\n"
     ]
    },
    {
     "data": {
      "text/plain": "<Figure size 800x400 with 1 Axes>",
      "image/png": "[encoded data removed]"
     },
     "metadata": {},
     "output_type": "display_data"
    },
    {
     "name": "stdout",
     "output_type": "stream",
     "text": [
      "CPU times: total: 422 ms\n",
      "Wall time: 418 ms\n"
     ]
    },
    {
     "data": {
      "text/plain": "array([-7.97628655, -1.54184807, -0.78420239,  7.48344041])"
     },
     "execution_count": 12,
     "metadata": {},
     "output_type": "execute_result"
    }
   ],
   "source": [
    "%%time\n",
    "log_regressor = LogisticRegression(samples=X_scaled, targets=y,\n",
    "                                   alpha=1e-00, diff_mse=1e-15, min_los=0.3,\n",
    "                                   print_cost=True, fit_intercept=True,\n",
    "                                   l1_penalty=0.00, l2_penalty=0.00)\n",
    "log_l = log_regressor.fit()\n",
    "log_w = log_regressor.get_weights()\n",
    "plot_learning_curves(model=log_regressor)\n",
    "log_w"
   ],
   "metadata": {
    "collapsed": false,
    "ExecuteTime": {
     "end_time": "2023-10-27T14:13:17.738914900Z",
     "start_time": "2023-10-27T14:13:17.157360600Z"
    }
   }
  },
  {
   "cell_type": "code",
   "execution_count": 13,
   "outputs": [
    {
     "name": "stdout",
     "output_type": "stream",
     "text": [
      "Cost at iteration 100 is 0.33284466941421276, weight=[-5.52300314 -1.16445871 -0.31450324  5.25517149]\n",
      "Cost at iteration 200 is 0.2805029897313212, weight=[-8.78850633 -1.29819912 -1.54886381  7.57300214]\n",
      "Cost at iteration 300 is 0.27251915509375263, weight=[-10.7686151   -1.38789752  -2.25175673   9.39352708]\n",
      "Cost at iteration 400 is 0.25119063384821155, weight=[-12.03256125  -1.52345847  -2.55269114  10.35379298]\n",
      "Cost at iteration 500 is 0.23887814872394428, weight=[-13.16557365  -1.60386938  -2.91877332  11.21417384]\n",
      "Cost at iteration 600 is 0.22832768779561272, weight=[-14.21292525  -1.68212678  -3.25287474  12.01435789]\n",
      "Cost at iteration 700 is 0.2190798416996626, weight=[-15.19109928  -1.75884458  -3.56196026  12.76373223]\n",
      "Cost at iteration 800 is 0.21085232527900138, weight=[-16.11102502  -1.83568113  -3.85041202  13.46870389]\n",
      "Cost at iteration 900 is 0.2035085064045592, weight=[-16.98086944  -1.91740723  -4.12124236  14.13395864]\n",
      "Cost at iteration 1000 is 0.19741282429267046, weight=[-17.80204973  -2.00322977  -4.37268347  14.77491288]\n",
      "Cost at iteration 1100 is 0.19211976087925053, weight=[-18.57903437  -2.07126046  -4.60508156  15.40439081]\n",
      "Cost at iteration 1200 is 0.18724433911217525, weight=[-19.32451832  -2.13611027  -4.82707504  16.00930086]\n",
      "Cost at iteration 1300 is 0.1827379467072719, weight=[-20.04133714  -2.19863107  -5.03992242  16.59093518]\n",
      "Cost at iteration 1400 is 0.17855986057690784, weight=[-20.7316575   -2.25897433  -5.24436816  17.15101983]\n",
      "Cost at iteration 1500 is 0.17467524997686787, weight=[-21.39739767  -2.31727975  -5.44106271  17.69109391]\n",
      "Cost at iteration 1600 is 0.17105407227487396, weight=[-22.04027171  -2.37367477  -5.63058251  18.21253754]\n",
      "Cost at iteration 1700 is 0.16767023834184885, weight=[-22.66182127  -2.42827601  -5.81344213  18.7165952 ]\n",
      "Cost at iteration 1800 is 0.16450096381107648, weight=[-23.26344003  -2.4811904   -5.9901036   19.20439419]\n",
      "Cost at iteration 1900 is 0.1615262536462217, weight=[-23.84639317  -2.53251616  -6.16098371  19.67695939]\n",
      "Cost at iteration 2000 is 0.1587284855581595, weight=[-24.41183324  -2.58234375  -6.32645994  20.13522561]\n",
      "Cost at iteration 2100 is 0.15609206875030152, weight=[-24.96081338  -2.63075653  -6.48687536  20.58004781]\n",
      "Cost at iteration 2200 is 0.1536031613528611, weight=[-25.49429841  -2.67783154  -6.64254268  21.01220988]\n",
      "Cost at iteration 2300 is 0.15124943440258082, weight=[-26.01317441  -2.72364001  -6.79374774  21.43243216]\n",
      "Cost at iteration 2400 is 0.14901987326911845, weight=[-26.51825688  -2.76824794  -6.94075248  21.84137799]\n",
      "Cost at iteration 2500 is 0.14690460955936252, weight=[-27.01029795  -2.81171657  -7.08379743  22.23965942]\n",
      "Cost at iteration 2600 is 0.14489477806488593, weight=[-27.48999256  -2.85410278  -7.223104    22.62784216]\n",
      "Cost at iteration 2700 is 0.14298239445055663, weight=[-27.957984    -2.8954595   -7.35887637  23.00645007]\n",
      "Cost at iteration 2800 is 0.1411602502370231, weight=[-28.41486873  -2.93583603  -7.49130319  23.37596899]\n",
      "Cost at iteration 2900 is 0.13942182228647115, weight=[-28.86120073  -2.97527836  -7.62055909  23.73685026]\n",
      "Cost at iteration 3000 is 0.13776119451330077, weight=[-29.29749525  -3.01382944  -7.74680597  24.08951379]\n",
      "Cost at iteration 3100 is 0.13617298994605595, weight=[-29.72423231  -3.05152942  -7.87019422  24.43435083]\n",
      "Cost at iteration 3200 is 0.13465231159011348, weight=[-30.14185967  -3.08841593  -7.99086369  24.7717264 ]\n",
      "Cost at iteration 3300 is 0.13319469080101837, weight=[-30.55079562  -3.12452419  -8.10894469  25.10198156]\n",
      "Cost at iteration 3400 is 0.13179604208979712, weight=[-30.95143142  -3.15988727  -8.22455876  25.42543537]\n",
      "Cost at iteration 3500 is 0.13045262345441747, weight=[-31.34413349  -3.19453626  -8.33781946  25.74238668]\n",
      "Cost at iteration 3600 is 0.12916100147367834, weight=[-31.72924546  -3.22850036  -8.448833    26.05311578]\n",
      "Cost at iteration 3700 is 0.1279180205172546, weight=[-32.1070899   -3.26180709  -8.55769887  26.35788581]\n",
      "Cost at iteration 3800 is 0.12672077552315095, weight=[-32.47797003  -3.29448235  -8.66451037  26.65694416]\n",
      "Cost at iteration 3900 is 0.12556658787512626, weight=[-32.84217113  -3.3265506   -8.76935509  26.9505236 ]\n",
      "Cost at iteration 4000 is 0.12445298398070806, weight=[-33.19996193  -3.35803493  -8.87231536  27.23884344]\n",
      "Cost at iteration 4100 is 0.12337767620759565, weight=[-33.55159585  -3.38895716  -8.97346868  27.52211046]\n",
      "Cost at iteration 4200 is 0.12233854588442987, weight=[-33.89731204  -3.41933792  -9.07288801  27.80051989]\n",
      "Cost at iteration 4300 is 0.1213336281126497, weight=[-34.23733649  -3.44919676  -9.1706422   28.07425615]\n",
      "Cost at iteration 4400 is 0.12036109817070262, weight=[-34.57188289  -3.47855219  -9.26679622  28.34349371]\n",
      "Cost at iteration 4500 is 0.11941925932124901, weight=[-34.90115353  -3.50742178  -9.36141145  28.60839768]\n",
      "Cost at iteration 4600 is 0.1185065318570592, weight=[-35.22534003  -3.53582219  -9.45454596  28.86912454]\n",
      "Cost at iteration 4700 is 0.11762144324270314, weight=[-35.54462411  -3.56376927  -9.54625471  29.12582264]\n",
      "Cost at iteration 4800 is 0.11676261922749502, weight=[-35.85917822  -3.59127806  -9.63658977  29.3786328 ]\n",
      "Cost at iteration 4900 is 0.11592877582091413, weight=[-36.16916615  -3.61836289  -9.72560052  29.62768878]\n",
      "Cost at iteration 5000 is 0.11511871203530163, weight=[-36.47474359  -3.6450374   -9.81333384  29.8731177 ]\n",
      "Cost at iteration 5100 is 0.11433130331234201, weight=[-36.77605862  -3.67131458  -9.89983424  30.11504053]\n",
      "Cost at iteration 5200 is 0.11356549555997589, weight=[-37.07325223  -3.69720682  -9.98514403  30.35357242]\n",
      "Cost at iteration 5300 is 0.11282029973516808, weight=[-37.36645874  -3.72272594 -10.06930348  30.58882308]\n",
      "Cost at iteration 5400 is 0.11209478691557692, weight=[-37.65580618  -3.74788323 -10.1523509   30.8208971 ]\n",
      "Cost at iteration 5500 is 0.11138808380981072, weight=[-37.94141671  -3.77268946 -10.23432282  31.04989427]\n",
      "Cost at iteration 5600 is 0.11069936866174165, weight=[-38.22340692  -3.79715494 -10.31525403  31.27590987]\n",
      "Cost at iteration 5700 is 0.11002786750939934, weight=[-38.50188822  -3.82128954 -10.39517776  31.4990349 ]\n",
      "Cost at iteration 5800 is 0.10937285076338757, weight=[-38.77696706  -3.84510269 -10.47412571  31.71935636]\n",
      "Cost at iteration 5900 is 0.10873363007364448, weight=[-39.04874528  -3.86860343 -10.55212815  31.93695747]\n",
      "Cost at iteration 6000 is 0.10810955545677617, weight=[-39.31732034  -3.89180041 -10.62921404  32.15191787]\n",
      "Cost at iteration 6100 is 0.10750001265917875, weight=[-39.58278555  -3.91470195 -10.70541107  32.36431384]\n",
      "Cost at iteration 6200 is 0.1069044207338126, weight=[-39.84523033  -3.937316   -10.78074574  32.57421844]\n",
      "Cost at iteration 6300 is 0.10632222981081554, weight=[-40.10474039  -3.95965022 -10.85524341  32.78170176]\n",
      "Cost at iteration 6400 is 0.10575291904420159, weight=[-40.36139794  -3.98171194 -10.9289284   32.986831  ]\n",
      "Cost at iteration 6500 is 0.10519599471871768, weight=[-40.61528188  -4.00350822 -11.00182402  33.18967066]\n",
      "Cost at iteration 6600 is 0.10465098850254255, weight=[-40.86646798  -4.02504585 -11.07395261  33.39028269]\n",
      "Cost at iteration 6700 is 0.10411745583295003, weight=[-41.115029    -4.04633135 -11.14533563  33.58872659]\n",
      "Cost at iteration 6800 is 0.1035949744233354, weight=[-41.3610349   -4.06737098 -11.21599368  33.78505958]\n",
      "Cost at iteration 6900 is 0.10308314288113767, weight=[-41.60455293  -4.08817081 -11.28594653  33.97933665]\n",
      "Cost at iteration 7000 is 0.10258157942720561, weight=[-41.8456478   -4.10873664 -11.35521321  34.17161073]\n",
      "Cost at iteration 7100 is 0.10208992070806504, weight=[-42.08438179  -4.12907408 -11.42381199  34.36193278]\n",
      "Cost at iteration 7200 is 0.101607820693339, weight=[-42.32081488  -4.14918854 -11.49176047  34.55035184]\n",
      "Cost at iteration 7300 is 0.10113494965132017, weight=[-42.55500483  -4.16908524 -11.55907557  34.7369152 ]\n",
      "Cost at iteration 7400 is 0.10067099319632129, weight=[-42.78700732  -4.18876921 -11.62577358  34.9216684 ]\n",
      "Cost at iteration 7500 is 0.10021565140202768, weight=[-43.01687602  -4.2082453  -11.69187021  35.10465537]\n",
      "Model alpha: 1.0, diff_mse: 1e-15, iterations: 7549, loss: 0.09999559145485702 ...\n"
     ]
    },
    {
     "data": {
      "text/plain": "<Figure size 800x400 with 1 Axes>",
      "image/png": "[encoded data removed]"
     },
     "metadata": {},
     "output_type": "display_data"
    },
    {
     "name": "stdout",
     "output_type": "stream",
     "text": [
      "CPU times: total: 3.12 s\n",
      "Wall time: 3.1 s\n"
     ]
    },
    {
     "data": {
      "text/plain": "array([-43.12874851,  -4.21771412, -11.72404263,  35.19368713])"
     },
     "execution_count": 13,
     "metadata": {},
     "output_type": "execute_result"
    }
   ],
   "source": [
    "%%time\n",
    "log_regressor = LogisticRegression(samples=X_scaled, targets=y,\n",
    "                                   alpha=1e-0, diff_mse=1e-15, min_los=0.1,\n",
    "                                   print_cost=True, fit_intercept=True,\n",
    "                                   l1_penalty=0.00, l2_penalty=0.00)\n",
    "log_l = log_regressor.fit()\n",
    "log_w = log_regressor.get_weights()\n",
    "plot_learning_curves(model=log_regressor)\n",
    "log_w"
   ],
   "metadata": {
    "collapsed": false,
    "ExecuteTime": {
     "end_time": "2023-10-27T14:13:20.996414500Z",
     "start_time": "2023-10-27T14:13:17.739914800Z"
    }
   }
  },
  {
   "cell_type": "markdown",
   "source": [
    "3. Создайте функцию calc_pred_proba, возвращающую предсказанную вероятность класса \"1\". На вход функции подаются значения признаков Х и веса, которые уже посчитаны функцией eval_LR_model."
   ],
   "metadata": {
    "collapsed": false
   }
  },
  {
   "cell_type": "code",
   "execution_count": 14,
   "outputs": [
    {
     "name": "stdout",
     "output_type": "stream",
     "text": [
      "Model alpha: 1.0, diff_mse: 1e-15, iterations: 45, loss: 0.5884703596988022 ...\n"
     ]
    },
    {
     "data": {
      "text/plain": "<Figure size 800x400 with 1 Axes>",
      "image/png": "[encoded data removed]"
     },
     "metadata": {},
     "output_type": "display_data"
    },
    {
     "name": "stdout",
     "output_type": "stream",
     "text": [
      "CPU times: total: 312 ms\n",
      "Wall time: 324 ms\n"
     ]
    },
    {
     "data": {
      "text/plain": "array([-3.02345767, -2.91251613,  2.90844242,  6.66140524])"
     },
     "execution_count": 14,
     "metadata": {},
     "output_type": "execute_result"
    }
   ],
   "source": [
    "%%time\n",
    "log_regressor = LogisticRegression(samples=X_scaled, targets=y,\n",
    "                                   alpha=1e-0, diff_mse=1e-15, min_los=0.6,\n",
    "                                   print_cost=True, fit_intercept=True,\n",
    "                                   l1_penalty=0.00, l2_penalty=0.00)\n",
    "log_l = log_regressor.fit()\n",
    "log_w = log_regressor.get_weights()\n",
    "plot_learning_curves(model=log_regressor)\n",
    "log_w"
   ],
   "metadata": {
    "collapsed": false,
    "ExecuteTime": {
     "end_time": "2023-10-27T14:13:21.495297500Z",
     "start_time": "2023-10-27T14:13:21.005415900Z"
    }
   }
  },
  {
   "cell_type": "code",
   "execution_count": 15,
   "outputs": [
    {
     "data": {
      "text/plain": "array([0.10681945, 0.28413624, 0.95790244, 0.1788964 , 0.98800129,\n       0.9301039 , 0.99611663, 0.00243253, 0.08139428, 0.99028452])"
     },
     "execution_count": 15,
     "metadata": {},
     "output_type": "execute_result"
    }
   ],
   "source": [
    "log_regressor.predict()"
   ],
   "metadata": {
    "collapsed": false,
    "ExecuteTime": {
     "end_time": "2023-10-27T14:13:21.656404400Z",
     "start_time": "2023-10-27T14:13:21.492298100Z"
    }
   }
  },
  {
   "cell_type": "code",
   "execution_count": 15,
   "outputs": [],
   "source": [],
   "metadata": {
    "collapsed": false,
    "ExecuteTime": {
     "end_time": "2023-10-27T14:13:21.656404400Z",
     "start_time": "2023-10-27T14:13:21.650404800Z"
    }
   }
  },
  {
   "cell_type": "markdown",
   "source": [
    "4. Создайте функцию calc_pred, возвращающую предсказанные классы (0 или 1). На вход функции подаются значения признаков Х и веса, которые уже посчитаны функцией eval_LR_model, а также порог вероятности."
   ],
   "metadata": {
    "collapsed": false
   }
  },
  {
   "cell_type": "markdown",
   "source": [
    "Результат применения функции сигмоиды – это вероятность того, что аргумент функции (логит) $s(z_i)$ принадлежит одному из классов. Напишем новый метод в класс регрессии:\n",
    "\n",
    "```python\n",
    "def to_class(self, logit):\n",
    "      return (logit >= self.threshold) * 1\n",
    "```"
   ],
   "metadata": {
    "collapsed": false
   }
  },
  {
   "cell_type": "code",
   "execution_count": 16,
   "outputs": [],
   "source": [
    "yhat = log_regressor.calc_predict()"
   ],
   "metadata": {
    "collapsed": false,
    "ExecuteTime": {
     "end_time": "2023-10-27T14:13:21.829883300Z",
     "start_time": "2023-10-27T14:13:21.656404400Z"
    }
   }
  },
  {
   "cell_type": "code",
   "execution_count": 17,
   "outputs": [
    {
     "name": "stdout",
     "output_type": "stream",
     "text": [
      " y  yhat\n",
      " 0     0\n",
      " 0     0\n",
      " 1     1\n",
      " 0     0\n",
      " 1     1\n",
      " 0     1\n",
      " 1     1\n",
      " 0     0\n",
      " 1     0\n",
      " 1     1\n"
     ]
    }
   ],
   "source": [
    "df = pd.DataFrame({'y': y.astype(int), 'yhat': yhat})\n",
    "print(df.to_string(index=False))"
   ],
   "metadata": {
    "collapsed": false,
    "ExecuteTime": {
     "end_time": "2023-10-27T14:13:21.967077900Z",
     "start_time": "2023-10-27T14:13:21.810883800Z"
    }
   }
  },
  {
   "cell_type": "markdown",
   "source": [
    "5. (*) Напишите функции для расчета accuracy, матрицы ошибок, precision и recall, а также F1-score."
   ],
   "metadata": {
    "collapsed": false
   }
  },
  {
   "cell_type": "code",
   "execution_count": 18,
   "outputs": [
    {
     "data": {
      "text/plain": "array([[4, 1],\n       [1, 4]])"
     },
     "execution_count": 18,
     "metadata": {},
     "output_type": "execute_result"
    }
   ],
   "source": [
    "tn = ((yhat == 0) * (y == 0)).sum()\n",
    "fp = ((yhat == 1) * (y == 0)).sum()\n",
    "fn = ((yhat == 0) * (y == 1)).sum()\n",
    "tp = ((yhat == 1) * (y == 1)).sum()\n",
    "np.array([[tn, fp], [fn, tp]])"
   ],
   "metadata": {
    "collapsed": false,
    "ExecuteTime": {
     "end_time": "2023-10-27T14:13:22.142600Z",
     "start_time": "2023-10-27T14:13:21.970077900Z"
    }
   }
  },
  {
   "cell_type": "code",
   "execution_count": 19,
   "outputs": [
    {
     "name": "stdout",
     "output_type": "stream",
     "text": [
      "True Positives:0.8000\tTrue Negatives:0.8000\n",
      "False Positives:0.2000\tFalse Negatives:0.2000\n",
      "Accuracy равно:0.8000\n",
      "Recall равно:0.8000\tPrecision равно:0.8000\n",
      "F-мера равно:0.8000\n"
     ]
    }
   ],
   "source": [
    "log_regressor.classification_report()"
   ],
   "metadata": {
    "collapsed": false,
    "ExecuteTime": {
     "end_time": "2023-10-27T14:13:22.282025900Z",
     "start_time": "2023-10-27T14:13:22.129600600Z"
    }
   }
  },
  {
   "cell_type": "code",
   "execution_count": 19,
   "outputs": [],
   "source": [],
   "metadata": {
    "collapsed": false,
    "ExecuteTime": {
     "end_time": "2023-10-27T14:13:22.309302200Z",
     "start_time": "2023-10-27T14:13:22.285878900Z"
    }
   }
  },
  {
   "cell_type": "code",
   "execution_count": 19,
   "outputs": [],
   "source": [],
   "metadata": {
    "collapsed": false,
    "ExecuteTime": {
     "end_time": "2023-10-27T14:13:22.309302200Z",
     "start_time": "2023-10-27T14:13:22.292302100Z"
    }
   }
  },
  {
   "cell_type": "markdown",
   "source": [
    "Сравним с результатами для LogisticRegression в Sklearn"
   ],
   "metadata": {
    "collapsed": false
   }
  },
  {
   "cell_type": "code",
   "execution_count": 20,
   "outputs": [],
   "source": [
    "from sklearn.pipeline import Pipeline\n",
    "from sklearn.linear_model import LogisticRegression\n",
    "from sklearn.preprocessing import StandardScaler"
   ],
   "metadata": {
    "collapsed": false,
    "ExecuteTime": {
     "end_time": "2023-10-27T14:13:23.709980100Z",
     "start_time": "2023-10-27T14:13:22.299302200Z"
    }
   }
  },
  {
   "cell_type": "code",
   "execution_count": 21,
   "outputs": [],
   "source": [
    "pipe = Pipeline([\n",
    "    ('scaler', StandardScaler()),\n",
    "    ('LR', LogisticRegression(\n",
    "        solver='liblinear',\n",
    "        penalty='l2',\n",
    "        fit_intercept=True,\n",
    "        random_state=42\n",
    "    ))])\n",
    "pipe.fit(X, y)\n",
    "y_pred = pipe.predict(X)"
   ],
   "metadata": {
    "collapsed": false,
    "ExecuteTime": {
     "end_time": "2023-10-27T14:13:23.926361800Z",
     "start_time": "2023-10-27T14:13:23.710975600Z"
    }
   }
  },
  {
   "cell_type": "code",
   "execution_count": 22,
   "outputs": [
    {
     "name": "stdout",
     "output_type": "stream",
     "text": [
      "True Negative errors: 4\n",
      "False Positive errors: 1\n",
      "False Negative errors: 1\n",
      "True Positive errors: 4\n"
     ]
    }
   ],
   "source": [
    "from sklearn.metrics import confusion_matrix\n",
    "\n",
    "tn, fp, fn, tp = confusion_matrix(y, y_pred).ravel()\n",
    "\n",
    "print(f'True Negative errors: {tn}')\n",
    "print(f'False Positive errors: {fp}')\n",
    "print(f'False Negative errors: {fn}')\n",
    "print(f'True Positive errors: {tp}')"
   ],
   "metadata": {
    "collapsed": false,
    "ExecuteTime": {
     "end_time": "2023-10-27T14:13:24.141962300Z",
     "start_time": "2023-10-27T14:13:23.930361500Z"
    }
   }
  },
  {
   "cell_type": "code",
   "execution_count": 23,
   "outputs": [
    {
     "data": {
      "text/plain": "<Figure size 500x500 with 2 Axes>",
      "image/png": "[encoded data removed]"
     },
     "metadata": {},
     "output_type": "display_data"
    }
   ],
   "source": [
    "from sklearn.metrics import ConfusionMatrixDisplay\n",
    "\n",
    "conf_mx = confusion_matrix(y, y_pred, labels=pipe.classes_)\n",
    "\n",
    "cmp = ConfusionMatrixDisplay(confusion_matrix=conf_mx)\n",
    "fig, ax = plt.subplots(figsize=(5, 5))\n",
    "cmp.plot(ax=ax)\n",
    "\n",
    "plt.show()"
   ],
   "metadata": {
    "collapsed": false,
    "ExecuteTime": {
     "end_time": "2023-10-27T14:13:24.607415500Z",
     "start_time": "2023-10-27T14:13:24.142961700Z"
    }
   }
  },
  {
   "cell_type": "code",
   "execution_count": 24,
   "outputs": [
    {
     "name": "stdout",
     "output_type": "stream",
     "text": [
      "test ACC: 0.8\n",
      "Precision: 0.8\n",
      "Recall: 0.8\n"
     ]
    }
   ],
   "source": [
    "ACC = np.diagonal(conf_mx).sum() / conf_mx.sum()  #или\n",
    "# ACC = (yhat == y).mean()\n",
    "PRECISION = conf_mx[1, 1] / conf_mx[:, 1].sum()\n",
    "RECALL = conf_mx[1, 1] / conf_mx[1].sum()  \n",
    "\n",
    "print(f\"test ACC: {ACC}\")\n",
    "print(f\"Precision: {PRECISION}\")\n",
    "print(f\"Recall: {RECALL}\")"
   ],
   "metadata": {
    "collapsed": false,
    "ExecuteTime": {
     "end_time": "2023-10-27T14:13:24.833725100Z",
     "start_time": "2023-10-27T14:13:24.606413700Z"
    }
   }
  },
  {
   "cell_type": "code",
   "execution_count": 25,
   "outputs": [
    {
     "name": "stdout",
     "output_type": "stream",
     "text": [
      "Accuracy равно: 0.800\n",
      "Precision равно: 0.800\n",
      "Recall равно: 0.800\n",
      "F-мера равно: 0.800\n"
     ]
    }
   ],
   "source": [
    "from sklearn.metrics import precision_score, recall_score, f1_score, accuracy_score\n",
    "\n",
    "print(f'Accuracy равно: {accuracy_score(y, y_pred):.3f}')\n",
    "print(f'Precision равно: {precision_score(y, y_pred):.3f}')\n",
    "print(f'Recall равно: {recall_score(y, y_pred):.3f}')\n",
    "print(f'F-мера равно: {f1_score(y, y_pred):.3f}')"
   ],
   "metadata": {
    "collapsed": false,
    "ExecuteTime": {
     "end_time": "2023-10-27T14:13:25.072251400Z",
     "start_time": "2023-10-27T14:13:24.821741400Z"
    }
   }
  },
  {
   "cell_type": "code",
   "execution_count": 25,
   "outputs": [],
   "source": [],
   "metadata": {
    "collapsed": false,
    "ExecuteTime": {
     "end_time": "2023-10-27T14:13:25.074257800Z",
     "start_time": "2023-10-27T14:13:25.054443500Z"
    }
   }
  },
  {
   "cell_type": "code",
   "execution_count": 25,
   "outputs": [],
   "source": [],
   "metadata": {
    "collapsed": false,
    "ExecuteTime": {
     "end_time": "2023-10-27T14:13:25.075257300Z",
     "start_time": "2023-10-27T14:13:25.060257800Z"
    }
   }
  },
  {
   "cell_type": "markdown",
   "source": [],
   "metadata": {
    "collapsed": false
   }
  }
 ],
 "metadata": {
  "kernelspec": {
   "display_name": "Python 3",
   "language": "python",
   "name": "python3"
  },
  "language_info": {
   "codemirror_mode": {
    "name": "ipython",
    "version": 2
   },
   "file_extension": ".py",
   "mimetype": "text/x-python",
   "name": "python",
   "nbconvert_exporter": "python",
   "pygments_lexer": "ipython2",
   "version": "2.7.6"
  }
 },
 "nbformat": 4,
 "nbformat_minor": 0
}
