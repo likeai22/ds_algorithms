{
 "cells": [
  {
   "cell_type": "code",
   "execution_count": 1,
   "outputs": [],
   "source": [
    "%load_ext autoreload\n",
    "%autoreload 2\n",
    "\n",
    "from resource import *\n",
    "\n",
    "%matplotlib inline\n",
    "plt.style.use('dark_background')"
   ],
   "metadata": {
    "collapsed": false,
    "pycharm": {
     "name": "#%%\n"
    },
    "ExecuteTime": {
     "end_time": "2023-10-26T06:34:31.440350100Z",
     "start_time": "2023-10-26T06:34:30.713317800Z"
    }
   }
  },
  {
   "cell_type": "markdown",
   "source": [
    "1. Измените функцию calc_logloss так, чтобы нули по возможности не попадали в np.log (как вариант - использовать np.clip или np.where)."
   ],
   "metadata": {
    "collapsed": false,
    "pycharm": {
     "name": "#%% md\n"
    }
   }
  },
  {
   "cell_type": "code",
   "execution_count": 2,
   "outputs": [],
   "source": [
    "X = np.array([[1, 1, 1, 1, 1, 1, 1, 1, 1, 1],\n",
    "              [1, 1, 2, 1, 3, 0, 5, 10, 1, 2],\n",
    "              [500, 700, 750, 600, 1450, 800, 1500, 2000, 450, 1000],\n",
    "              [1, 1, 2, 1, 2, 1, 3, 3, 1, 2]], dtype=np.float64).T\n",
    "\n",
    "y = np.array([0, 0, 1, 0, 1, 0, 1, 0, 1, 1], dtype=np.float64)"
   ],
   "metadata": {
    "collapsed": false,
    "pycharm": {
     "name": "#%%\n"
    },
    "ExecuteTime": {
     "end_time": "2023-10-26T06:34:31.479321Z",
     "start_time": "2023-10-26T06:34:31.104759600Z"
    }
   }
  },
  {
   "cell_type": "code",
   "execution_count": 3,
   "metadata": {
    "collapsed": true,
    "pycharm": {
     "name": "#%%\n"
    },
    "ExecuteTime": {
     "end_time": "2023-10-26T06:34:31.481320900Z",
     "start_time": "2023-10-26T06:34:31.261301700Z"
    }
   },
   "outputs": [],
   "source": [
    "def calc_logloss(y, y_pred):\n",
    "    y_pred_clipped = np.where(y_pred == 0, 1e-15, np.where(y_pred == 1, 1 - 1e-15, y_pred))\n",
    "    # y_pred_clipped = np.clip(y_pred, 1e-15, 1 - 1e-15)\n",
    "    # err = np.mean(-y * np.log(y_pred + 1e-15) - (1.0 - y) * np.log(1.0 - y_pred + 1e-15))\n",
    "    err = np.mean(-y * np.log(y_pred_clipped) - (1.0 - y) * np.log(1.0 - y_pred_clipped))\n",
    "    return err"
   ]
  },
  {
   "cell_type": "code",
   "execution_count": 4,
   "outputs": [
    {
     "data": {
      "text/plain": "34.53957599234088"
     },
     "execution_count": 4,
     "metadata": {},
     "output_type": "execute_result"
    }
   ],
   "source": [
    "# Пример применения\n",
    "y_true = 0\n",
    "y_pred = 1\n",
    "calc_logloss(y_true, y_pred)"
   ],
   "metadata": {
    "collapsed": false,
    "pycharm": {
     "name": "#%%\n"
    },
    "ExecuteTime": {
     "end_time": "2023-10-26T06:34:31.626613500Z",
     "start_time": "2023-10-26T06:34:31.413321100Z"
    }
   }
  },
  {
   "cell_type": "markdown",
   "source": [
    "2. На данных из урока изучите влияние гиперпараметров на ошибку алгоритма. Подберите аргументы функции eval_LR_model для логистической регрессии таким образом, чтобы log loss не превышал значение 0.3 (0.1). Как изменились веса?"
   ],
   "metadata": {
    "collapsed": false,
    "pycharm": {
     "name": "#%% md\n"
    }
   }
  },
  {
   "cell_type": "code",
   "execution_count": 5,
   "outputs": [],
   "source": [
    "def sigmoid(z):\n",
    "    return 1 / (1 + np.exp(-z))"
   ],
   "metadata": {
    "collapsed": false,
    "pycharm": {
     "name": "#%%\n"
    },
    "ExecuteTime": {
     "end_time": "2023-10-26T06:34:31.743084300Z",
     "start_time": "2023-10-26T06:34:31.576606300Z"
    }
   }
  },
  {
   "cell_type": "code",
   "execution_count": 6,
   "outputs": [
    {
     "data": {
      "text/plain": "array([-0.97958969, -0.56713087, -0.46401617, -0.77336028,  0.97958969,\n       -0.36090146,  1.08270439,  2.11385144, -1.08270439,  0.05155735])"
     },
     "execution_count": 6,
     "metadata": {},
     "output_type": "execute_result"
    }
   ],
   "source": [
    "scaler = StandardScaler()\n",
    "X_scaled = X.copy()\n",
    "X_scaled[:, 2] = scaler.fit_transform(X_scaled[:, 2])\n",
    "X_scaled[:, 2]"
   ],
   "metadata": {
    "collapsed": false,
    "ExecuteTime": {
     "end_time": "2023-10-26T06:34:31.889256400Z",
     "start_time": "2023-10-26T06:34:31.731084600Z"
    }
   }
  },
  {
   "cell_type": "code",
   "execution_count": 7,
   "outputs": [],
   "source": [
    "def calc_gradient(samples, targets, yhat):\n",
    "    return 2 * (yhat - targets) @ samples / samples.shape[0]\n",
    "\n",
    "def predict(samples, weight):\n",
    "    return samples @ weight\n",
    "\n",
    "def update(samples, targets, yhat, weight, alpha):\n",
    "    return weight - alpha * calc_gradient(samples, targets, yhat)"
   ],
   "metadata": {
    "collapsed": false,
    "ExecuteTime": {
     "end_time": "2023-10-26T06:34:32.038431400Z",
     "start_time": "2023-10-26T06:34:31.889256400Z"
    }
   }
  },
  {
   "cell_type": "code",
   "execution_count": 8,
   "outputs": [],
   "source": [
    "def eval_lr_model(samples, targets, iterations, alpha=1e-3, min_los=1, print_cost=True):\n",
    "    np.random.seed(42)\n",
    "    w = np.random.randn(samples.shape[1])\n",
    "    loss = calc_logloss(targets, sigmoid(np.dot(samples, w)))\n",
    "    for i in range(1, iterations + 1):\n",
    "        yhat = sigmoid(predict(samples, w))\n",
    "        new_weight = update(samples, targets, yhat, w, alpha)\n",
    "        loss = calc_logloss(targets, sigmoid(np.dot(samples, new_weight)))\n",
    "        if i < iterations and loss < min_los:\n",
    "            print(f'Model iterations: {i}, loss: {loss}, weight={w} ...')\n",
    "            break\n",
    "        if print_cost == True and i % 100 == 0:\n",
    "            print(i, w, loss)\n",
    "        w = new_weight\n",
    "    return w, loss"
   ],
   "metadata": {
    "collapsed": false,
    "pycharm": {
     "name": "#%%\n"
    },
    "ExecuteTime": {
     "end_time": "2023-10-26T06:34:32.212704700Z",
     "start_time": "2023-10-26T06:34:32.044436700Z"
    }
   }
  },
  {
   "cell_type": "code",
   "execution_count": 9,
   "outputs": [
    {
     "name": "stdout",
     "output_type": "stream",
     "text": [
      "100 [-4.93512183 -0.27160891 -0.11835431  6.59492325] 1.23432503325964\n",
      "Model iterations: 151, loss: 0.29944149711205514, weight=[-7.80817012 -1.5183843  -0.74699779  7.3319981 ] ...\n"
     ]
    },
    {
     "data": {
      "text/plain": "(array([-7.80817012, -1.5183843 , -0.74699779,  7.3319981 ]),\n 0.29944149711205514)"
     },
     "execution_count": 9,
     "metadata": {},
     "output_type": "execute_result"
    }
   ],
   "source": [
    "eval_lr_model(X_scaled, y, iterations=1000, alpha=1, min_los=0.3, print_cost=True)"
   ],
   "metadata": {
    "collapsed": false,
    "pycharm": {
     "name": "#%%\n"
    },
    "ExecuteTime": {
     "end_time": "2023-10-26T06:34:32.391053400Z",
     "start_time": "2023-10-26T06:34:32.199702400Z"
    }
   }
  },
  {
   "cell_type": "code",
   "execution_count": 10,
   "outputs": [
    {
     "name": "stdout",
     "output_type": "stream",
     "text": [
      "100 [-4.93512183 -0.27160891 -0.11835431  6.59492325] 1.23432503325964\n",
      "200 [-8.18720769 -1.05100497 -1.38340955  8.96806899] 1.3523364339574155\n",
      "300 [-10.87310042  -1.7398129   -2.19145519   9.25699022] 0.26645782813403157\n",
      "400 [-12.10337872  -1.77533439  -2.57895763  10.22992917] 0.2510543069728562\n",
      "500 [-13.22441149  -1.81729246  -2.94121175  11.11077753] 0.2387631620297978\n",
      "600 [-14.26080562  -1.85894107  -3.27157134  11.92983339] 0.22822782066885033\n",
      "700 [-15.22830907  -1.89854516  -3.57680676  12.69777238] 0.21899154727697406\n",
      "800 [-16.13696825  -1.93452009  -3.86096565  13.42258182] 0.2107733406994703\n",
      "900 [-16.99314126  -1.96451023  -4.12628888  14.11222864] 0.2034391112104028\n",
      "1000 [-17.80262577  -2.00499038  -4.37290107  14.77419966] 0.197356743469764\n",
      "1100 [-18.5791518   -2.07127072  -4.60511659  15.40448605] 0.1920682462122951\n",
      "1200 [-19.32463112  -2.13612009  -4.82710858  16.00939239] 0.1871967995027222\n",
      "1300 [-20.04144569  -2.19864055  -5.03995461  16.59102326] 0.18269393442296059\n",
      "1400 [-20.73176212  -2.25898349  -5.24439911  17.1511047 ] 0.17851899447397052\n",
      "1500 [-21.39749863  -2.3172886   -5.44109251  17.69117581] 0.17463720253210405\n",
      "1600 [-22.04036926  -2.37368333  -5.63061124  18.21261666] 0.17101855993339182\n",
      "1700 [-22.66191564  -2.42828431  -5.81346987  18.71667173] 0.1676370141047751\n",
      "1800 [-23.26353142  -2.48119844  -5.99013041  19.20446828] 0.16446981140211578\n",
      "1900 [-23.84648178  -2.53252397  -6.16100966  19.67703121] 0.16149698283199446\n",
      "2000 [-24.41191923  -2.58235133  -6.32648509  20.13529529] 0.1587009283373356\n",
      "2100 [-24.9608969   -2.6307639   -6.48689975  20.58011548] 0.15606607621310015\n",
      "2200 [-25.49437961  -2.6778387   -6.64256636  21.01227565] 0.1535786010680747\n",
      "2300 [-26.01325342  -2.72364698  -6.79377075  21.43249614] 0.1512261882263351\n",
      "2400 [-26.51833382  -2.76825474  -6.94077486  21.84144028] 0.1489978354951232\n",
      "2500 [-27.01037293  -2.81172319  -7.08381922  22.2397201 ] 0.14688368534856808\n",
      "2600 [-27.49006569  -2.85410924  -7.22312522  22.62790133] 0.14487488210572746\n",
      "2700 [-27.95805537  -2.89546581  -7.35889706  23.0065078 ] 0.1429634498108731\n",
      "2800 [-28.41493843  -2.93584219  -7.49132338  23.37602535] 0.1411421873763002\n",
      "2900 [-28.86126884  -2.97528438  -7.6205788   23.73690532] 0.1394045782029054\n",
      "3000 [-29.29756185  -3.01383532  -7.74682524  24.08956762] 0.13774471200478053\n",
      "3100 [-29.72429747  -3.05153518  -7.87021305  24.43440347] 0.1361572169678149\n",
      "3200 [-30.14192345  -3.08842156  -7.99088212  24.77177792] 0.13463720069473786\n",
      "3300 [-30.5508581   -3.1245297   -8.10896272  25.10203201] 0.13318019864886563\n",
      "3400 [-30.95149264  -3.15989268  -8.22457642  25.42548479] 0.13178212901981654\n",
      "3500 [-31.34419352  -3.19454156  -8.33783677  25.74243512] 0.13043925310695317\n",
      "3600 [-31.72930434  -3.22850556  -8.44884997  26.05316328] 0.12914814045813408\n",
      "3700 [-32.10714768  -3.26181218  -8.55771552  26.35793241] 0.12790563811859204\n",
      "3800 [-32.47802676  -3.29448735  -8.66452671  26.65698989] 0.126708843442091\n",
      "3900 [-32.84222684  -3.32655551  -8.76937113  26.95056851] 0.12555507999767365\n",
      "4000 [-33.20001668  -3.35803975  -8.87233112  27.23888755] 0.12444187617325513\n",
      "4100 [-33.55164967  -3.38896189  -8.97348416  27.52215381] 0.12336694613439254\n",
      "4200 [-33.89736497  -3.41934257  -9.07290323  27.8005625 ] 0.122328172844654\n",
      "4300 [-34.23738855  -3.44920133  -9.17065717  28.07429806] 0.12132359289468964\n",
      "4400 [-34.57193412  -3.47855668  -9.26681094  28.34353493] 0.12035138292159464\n",
      "4500 [-34.90120396  -3.5074262   -9.36142594  28.60843825] 0.11940984742948017\n",
      "4600 [-35.22538969  -3.53582654  -9.45456023  28.86916447] 0.11849740784717884\n",
      "4700 [-35.54467303  -3.56377355  -9.54626876  29.12586196] 0.11761259268039685\n",
      "4800 [-35.85922642  -3.59128227  -9.63660361  29.37867154] 0.11675402863393747\n",
      "4900 [-36.16921366  -3.61836704  -9.72561416  29.62772694] 0.11592043259537017\n",
      "5000 [-36.47479042  -3.64504149  -9.81334729  29.87315531] 0.1151106043850719\n",
      "5100 [-36.77610481  -3.67131861  -9.8998475   30.11507761] 0.11432342018925983\n",
      "5200 [-37.0732978   -3.69721079  -9.98515711  30.35360899] 0.11355782660275889\n",
      "5300 [-37.3665037   -3.72272985 -10.06931638  30.58885915] 0.11281283521700672\n",
      "5400 [-37.65585056  -3.74788708 -10.15236364  30.82093268] 0.1120875176964194\n",
      "5500 [-37.94146051  -3.77269326 -10.23433539  31.04992939] 0.11138100129286495\n",
      "5600 [-38.22345018  -3.79715869 -10.31526645  31.27594453] 0.110692464753768\n",
      "5700 [-38.50193094  -3.82129324 -10.39519002  31.49906912] 0.11002113458441594\n",
      "5800 [-38.77700926  -3.84510634 -10.47413782  31.71939016] 0.10936628162945479\n",
      "5900 [-39.04878699  -3.86860703 -10.55214012  31.93699086] 0.10872721794242975\n",
      "6000 [-39.31736156  -3.89180397 -10.62922587  32.15195086] 0.10810329391563298\n",
      "6100 [-39.58282629  -3.91470546 -10.70542277  32.36434643] 0.10749389564550202\n",
      "6200 [-39.84527061  -3.93731947 -10.7807573   32.57425066] 0.10689844251145819\n",
      "6300 [-40.10478022  -3.95965364 -10.85525485  32.78173361] 0.10631638494839313\n",
      "6400 [-40.36143734  -3.98171533 -10.92893971  32.98686248] 0.10574720239507267\n",
      "6500 [-40.61532086  -4.00351157 -11.00183521  33.1897018 ] 0.10519040140254185\n",
      "6600 [-40.86650655  -4.02504916 -11.07396369  33.39031349] 0.10464551388823844\n",
      "6700 [-41.11506717  -4.04633461 -11.1453466   33.58875706] 0.10411209552294223\n",
      "6800 [-41.36107268  -4.06737421 -11.21600453  33.78508972] 0.10358972423898108\n",
      "6900 [-41.60459033  -4.088174   -11.28595728  33.97936648] 0.10307799884922739\n",
      "7000 [-41.84568483  -4.10873979 -11.35522385  34.17164026] 0.10257653776745099\n",
      "7100 [-42.08441847  -4.1290772  -11.42382253  34.36196201] 0.10208497782148426\n",
      "7200 [-42.3208512   -4.14919163 -11.49177091  34.55038078] 0.10160297315147568\n",
      "7300 [-42.55504081  -4.1690883  -11.55908591  34.73694385] 0.10113019418621819\n",
      "7400 [-42.78704296  -4.18877223 -11.62578383  34.92169678] 0.10066632669119872\n",
      "7500 [-43.01691134  -4.20824829 -11.69188037  35.10468348] 0.10021107088259462\n",
      "Model iterations: 7547, loss: 0.09999999367728905, weight=[-43.12422716  -4.21733156 -11.72274232  35.19008921] ...\n"
     ]
    },
    {
     "data": {
      "text/plain": "(array([-43.12422716,  -4.21733156, -11.72274232,  35.19008921]),\n 0.09999999367728905)"
     },
     "execution_count": 10,
     "metadata": {},
     "output_type": "execute_result"
    }
   ],
   "source": [
    "eval_lr_model(X_scaled, y, iterations=10000, alpha=1, min_los=0.1, print_cost=True)"
   ],
   "metadata": {
    "collapsed": false,
    "ExecuteTime": {
     "end_time": "2023-10-26T06:34:33.698309700Z",
     "start_time": "2023-10-26T06:34:32.389053600Z"
    }
   }
  },
  {
   "cell_type": "code",
   "execution_count": 10,
   "outputs": [],
   "source": [],
   "metadata": {
    "collapsed": false,
    "pycharm": {
     "name": "#%%\n"
    },
    "ExecuteTime": {
     "end_time": "2023-10-26T06:34:33.698309700Z",
     "start_time": "2023-10-26T06:34:33.676303Z"
    }
   }
  },
  {
   "cell_type": "code",
   "execution_count": 11,
   "outputs": [],
   "source": [
    "class LogisticRegression(ElasticGradientLinearRegression):\n",
    "\n",
    "    def loss(self):\n",
    "        eps = 1e-15\n",
    "        yhat = self.predict()\n",
    "\n",
    "        l1_term = self.l1_penalty * np.sum(self.weight[1:])\n",
    "        l2_term = (self.l2_penalty / 2) * np.sum(np.square(self.weight[1:]))\n",
    "\n",
    "        y_hat_clipped = np.where(yhat == 0, eps, np.where(yhat == 1, 1 - eps, yhat))\n",
    "        \n",
    "        loss = np.mean(-(self.targets * np.log(y_hat_clipped) + (1 - self.targets) * np.log(\n",
    "            1 - y_hat_clipped))) + l1_term + l2_term\n",
    "        return loss\n",
    "\n",
    "    @staticmethod\n",
    "    def sigmoid(z):\n",
    "        return 1 / (1 + np.exp(-z))\n",
    "\n",
    "    def predict(self):\n",
    "        return self.sigmoid(self.samples @ self.weight)\n",
    "\n"
   ],
   "metadata": {
    "collapsed": false,
    "pycharm": {
     "name": "#%%\n"
    },
    "ExecuteTime": {
     "end_time": "2023-10-26T06:34:33.951843100Z",
     "start_time": "2023-10-26T06:34:33.683309800Z"
    }
   }
  },
  {
   "cell_type": "code",
   "execution_count": 12,
   "outputs": [
    {
     "name": "stdout",
     "output_type": "stream",
     "text": [
      "Cost at iteration 100 is 0.3847727258568115, weight=[-5.62958334 -1.43240532 -0.40271308  5.16232862]\n",
      "Model alpha: 1.0, diff_mse: 1e-15, iterations: 154, loss: 0.298791709575928 ...\n"
     ]
    },
    {
     "data": {
      "text/plain": "<Figure size 800x400 with 1 Axes>",
      "image/png": "[encoded data removed]"
     },
     "metadata": {},
     "output_type": "display_data"
    },
    {
     "name": "stdout",
     "output_type": "stream",
     "text": [
      "CPU times: total: 406 ms\n",
      "Wall time: 426 ms\n"
     ]
    },
    {
     "data": {
      "text/plain": "array([-7.94302154, -1.52977087, -0.78904514,  7.44037246])"
     },
     "execution_count": 12,
     "metadata": {},
     "output_type": "execute_result"
    }
   ],
   "source": [
    "%%time\n",
    "log_regressor = LogisticRegression(samples=X_scaled, targets=y,\n",
    "                                   alpha=1e-0, diff_mse=1e-15, min_los=0.3,\n",
    "                                   print_cost=True, fit_intercept=False,\n",
    "                                   l1_penalty=0.00, l2_penalty=0.00)\n",
    "log_l = log_regressor.fit()\n",
    "log_w = log_regressor.get_weights()\n",
    "plot_learning_curves(model=log_regressor)\n",
    "log_w"
   ],
   "metadata": {
    "collapsed": false,
    "ExecuteTime": {
     "end_time": "2023-10-26T06:34:34.448400Z",
     "start_time": "2023-10-26T06:34:33.837843300Z"
    }
   }
  },
  {
   "cell_type": "code",
   "execution_count": 13,
   "outputs": [
    {
     "name": "stdout",
     "output_type": "stream",
     "text": [
      "Cost at iteration 100 is 0.3847727258568115, weight=[-5.62958334 -1.43240532 -0.40271308  5.16232862]\n",
      "Cost at iteration 200 is 0.2801415297502827, weight=[-8.81438442 -1.28798186 -1.56788511  7.58430611]\n",
      "Cost at iteration 300 is 0.2620587463851519, weight=[-10.88256898  -1.36506498  -2.2369754    9.27014799]\n",
      "Cost at iteration 400 is 0.25110727775377184, weight=[-12.03992095  -1.52396305  -2.55509204  10.35935382]\n",
      "Cost at iteration 500 is 0.23880771075866297, weight=[-13.17232981  -1.60436245  -2.92094045  11.21932397]\n",
      "Cost at iteration 600 is 0.22826651429939543, weight=[-14.21920837  -1.68260755  -3.2548686   12.01916694]\n",
      "Cost at iteration 700 is 0.21902575861342782, weight=[-15.1969902   -1.75931947  -3.563814    12.76824779]\n",
      "Cost at iteration 800 is 0.21080394546569195, weight=[-16.11658149  -1.83616615  -3.85214817  13.47295887]\n",
      "Cost at iteration 900 is 0.2034659935248127, weight=[-16.98613381  -1.91795131  -4.12287429  14.13798473]\n",
      "Cost at iteration 1000 is 0.19737847428671462, weight=[-17.80699366  -2.0036851   -4.37417111  14.77889073]\n",
      "Cost at iteration 1100 is 0.19208820866389592, weight=[-18.58376362  -2.07167122  -4.60649203  15.40822816]\n",
      "Cost at iteration 1200 is 0.18721522177292835, weight=[-19.32906199  -2.13650608  -4.82842605  16.01298774]\n",
      "Cost at iteration 1300 is 0.1827109899669459, weight=[-20.04570963  -2.19901289  -5.04121899  16.59448294]\n",
      "Cost at iteration 1400 is 0.17853483095483325, weight=[-20.73587144  -2.25934306  -5.24561461  17.15443857]\n",
      "Cost at iteration 1500 is 0.17465194684248803, weight=[-21.40146431  -2.31763621  -5.44226284  17.69439269]\n",
      "Cost at iteration 1600 is 0.17103232193354986, weight=[-22.04420115  -2.37401973  -5.63173969  18.21572449]\n",
      "Cost at iteration 1700 is 0.1676498894933986, weight=[-22.66562261  -2.42861016  -5.81455939  18.71967768]\n",
      "Cost at iteration 1800 is 0.16448188397581762, weight=[-23.26712151  -2.48151437  -5.99118366  19.20737886]\n",
      "Cost at iteration 1900 is 0.16150832629799008, weight=[-23.8499623   -2.53283055  -6.16202904  19.67985235]\n",
      "Cost at iteration 2000 is 0.15871160778965548, weight=[-24.41529686  -2.58264909  -6.32747277  20.13803241]\n",
      "Cost at iteration 2100 is 0.15607614934916236, weight=[-24.96417775  -2.63105332  -6.48785773  20.58277353]\n",
      "Cost at iteration 2200 is 0.15358811920093215, weight=[-25.49756927  -2.67812024  -6.64349644  21.01485918]\n",
      "Cost at iteration 2300 is 0.15123519713356368, weight=[-26.01635704  -2.72392104  -6.7946746   21.43500934]\n",
      "Cost at iteration 2400 is 0.1490063761354308, weight=[-26.52135616  -2.76852171  -6.94165399  21.84388702]\n",
      "Cost at iteration 2500 is 0.14689179447016776, weight=[-27.01331836  -2.81198343  -7.08467503  22.24210395]\n",
      "Cost at iteration 2600 is 0.14488259276538645, weight=[-27.49293826  -2.85436308  -7.22395901  22.63022558]\n",
      "Cost at iteration 2700 is 0.14297079181870873, weight=[-27.96085883  -2.89571356  -7.35971     23.0087755 ]\n",
      "Cost at iteration 2800 is 0.1411491876784659, weight=[-28.41767628  -2.93608414  -7.49211658  23.37823934]\n",
      "Cost at iteration 2900 is 0.13941126121204755, weight=[-28.8639443   -2.9755208   -7.62135328  23.73906825]\n",
      "Cost at iteration 3000 is 0.13775109988636214, weight=[-29.30017794  -3.01406646  -7.74758194  24.09168193]\n",
      "Cost at iteration 3100 is 0.1361633298889888, weight=[-29.726857    -3.05176128  -7.87095286  24.43647147]\n",
      "Cost at iteration 3200 is 0.13464305704131166, weight=[-30.14442905  -3.08864283  -7.99160584  24.77380173]\n",
      "Cost at iteration 3300 is 0.1331858152149898, weight=[-30.55331221  -3.12474636  -8.10967113  25.10401364]\n",
      "Cost at iteration 3400 is 0.1317875211742715, weight=[-30.95389756  -3.16010491  -8.22527023  25.42742611]\n",
      "Cost at iteration 3500 is 0.1304444349392953, weight=[-31.3465514   -3.19474955  -8.33851663  25.74433788]\n",
      "Cost at iteration 3600 is 0.1291531249074616, weight=[-31.7316172   -3.22870948  -8.44951651  26.05502912]\n",
      "Cost at iteration 3700 is 0.1279104370872661, weight=[-32.10941741  -3.2620122   -8.55836933  26.35976289]\n",
      "Cost at iteration 3800 is 0.1267134678963973, weight=[-32.48025514  -3.29468362  -8.66516833  26.65878646]\n",
      "Cost at iteration 3900 is 0.12555954005712355, weight=[-32.84441557  -3.32674817  -8.77000108  26.95233253]\n",
      "Cost at iteration 4000 is 0.12444618118997763, weight=[-33.20216732  -3.35822894  -8.87294989  27.24062032]\n",
      "Cost at iteration 4100 is 0.12337110476385837, weight=[-33.55376371  -3.38914773  -8.97409219  27.52385655]\n",
      "Cost at iteration 4200 is 0.12233219310880676, weight=[-33.89944383  -3.41952519  -9.07350097  27.80223635]\n",
      "Cost at iteration 4300 is 0.12132748223840832, weight=[-34.23943356  -3.44938084  -9.17124501  28.07594412]\n",
      "Cost at iteration 4400 is 0.1203551482632826, weight=[-34.57394654  -3.4787332   -9.26738927  28.34515422]\n",
      "Cost at iteration 4500 is 0.11941349520647689, weight=[-34.90318498  -3.50759982  -9.36199512  28.61003175]\n",
      "Cost at iteration 4600 is 0.11850094405659732, weight=[-35.22734044  -3.53599736  -9.4551206   28.8707331 ]\n",
      "Cost at iteration 4700 is 0.11761602291590453, weight=[-35.54659459  -3.56394167  -9.54682064  29.1274066 ]\n",
      "Cost at iteration 4800 is 0.11675735811894346, weight=[-35.86111981  -3.59144778  -9.63714732  29.38019301]\n",
      "Cost at iteration 4900 is 0.11592366621301733, weight=[-36.17107984  -3.61853002  -9.72614999  29.62922604]\n",
      "Cost at iteration 5000 is 0.11511374670538077, weight=[-36.47663032  -3.64520202  -9.8138755   29.8746328 ]\n",
      "Cost at iteration 5100 is 0.11432647549373698, weight=[-36.77791929  -3.67147677  -9.90036837  30.11653419]\n",
      "Cost at iteration 5200 is 0.11356079890673443, weight=[-37.07508771  -3.69736665  -9.98567088  30.35504534]\n",
      "Cost at iteration 5300 is 0.11281572828994377, weight=[-37.36826983  -3.72288349 -10.0698233   30.59027593]\n",
      "Cost at iteration 5400 is 0.11209033508040325, weight=[-37.65759366  -3.74803856 -10.15286393  30.82233051]\n",
      "Cost at iteration 5500 is 0.11138374631945851, weight=[-37.94318132  -3.77284264 -10.23482926  31.05130886]\n",
      "Cost at iteration 5600 is 0.11069514055939869, weight=[-38.22514937  -3.79730604 -10.31575412  31.2773062 ]\n",
      "Cost at iteration 5700 is 0.11002374412443985, weight=[-38.50360918  -3.82143861 -10.39567168  31.50041353]\n",
      "Cost at iteration 5800 is 0.10936882769102732, weight=[-38.77866719  -3.84524978 -10.47461365  31.72071782]\n",
      "Cost at iteration 5900 is 0.10872970315630044, weight=[-39.0504252   -3.86874861 -10.55261031  31.93830227]\n",
      "Cost at iteration 6000 is 0.10810572076696348, weight=[-39.31898063  -3.89194373 -10.62969059  32.15324649]\n",
      "Cost at iteration 6100 is 0.10749626648380477, weight=[-39.58442679  -3.91484345 -10.70588217  32.36562674]\n",
      "Cost at iteration 6200 is 0.10690075955973373, weight=[-39.84685306  -3.93745574 -10.78121156  32.57551608]\n",
      "Cost at iteration 6300 is 0.10631865031154172, weight=[-40.10634513  -3.95978824 -10.8557041   32.78298455]\n",
      "Cost at iteration 6400 is 0.1057494180676457, weight=[-40.36298519  -3.98184829 -10.92938411  32.98809935]\n",
      "Cost at iteration 6500 is 0.1051925692758924, weight=[-40.61685213  -4.00364295 -11.00227489  33.19092497]\n",
      "Cost at iteration 6600 is 0.10464763575712385, weight=[-40.86802168  -4.02517899 -11.07439878  33.39152334]\n",
      "Cost at iteration 6700 is 0.10411417309162985, weight=[-41.1165666   -4.04646293 -11.14577723  33.58995394]\n",
      "Cost at iteration 6800 is 0.10359175912689442, weight=[-41.36255682  -4.06750106 -11.21643083  33.78627397]\n",
      "Cost at iteration 6900 is 0.10307999259617802, weight=[-41.60605958  -4.08829941 -11.28637936  33.98053843]\n",
      "Cost at iteration 7000 is 0.10257849183848697, weight=[-41.84713958  -4.1088638  -11.35564183  34.17280022]\n",
      "Cost at iteration 7100 is 0.102086893611391, weight=[-42.08585909  -4.12919984 -11.42423652  34.36311028]\n",
      "Cost at iteration 7200 is 0.10160485198895437, weight=[-42.32227805  -4.14931294 -11.492181    34.55151766]\n",
      "Cost at iteration 7300 is 0.10113203733777006, weight=[-42.55645423  -4.1692083  -11.55949221  34.73806962]\n",
      "Cost at iteration 7400 is 0.10066813536473902, weight=[-42.78844328  -4.18889096 -11.62618644  34.9228117 ]\n",
      "Cost at iteration 7500 is 0.10021284623081819, weight=[-43.01829888  -4.20836577 -11.69227938  35.10578783]\n",
      "Model alpha: 1.0, diff_mse: 1e-15, iterations: 7548, loss: 0.09999728218699142 ...\n"
     ]
    },
    {
     "data": {
      "text/plain": "<Figure size 800x400 with 1 Axes>",
      "image/png": "[encoded data removed]"
     },
     "metadata": {},
     "output_type": "display_data"
    },
    {
     "name": "stdout",
     "output_type": "stream",
     "text": [
      "CPU times: total: 3.03 s\n",
      "Wall time: 3 s\n"
     ]
    },
    {
     "data": {
      "text/plain": "array([-43.12788703,  -4.21764123, -11.72379488,  35.1930016 ])"
     },
     "execution_count": 13,
     "metadata": {},
     "output_type": "execute_result"
    }
   ],
   "source": [
    "%%time\n",
    "log_regressor = LogisticRegression(samples=X_scaled, targets=y,\n",
    "                                   alpha=1e-0, diff_mse=1e-15, min_los=0.1,\n",
    "                                   print_cost=True, fit_intercept=False,\n",
    "                                   l1_penalty=0.00, l2_penalty=0.00)\n",
    "log_l = log_regressor.fit()\n",
    "log_w = log_regressor.get_weights()\n",
    "plot_learning_curves(model=log_regressor)\n",
    "log_w"
   ],
   "metadata": {
    "collapsed": false,
    "ExecuteTime": {
     "end_time": "2023-10-26T06:34:37.584311700Z",
     "start_time": "2023-10-26T06:34:34.421403800Z"
    }
   }
  }
 ],
 "metadata": {
  "kernelspec": {
   "display_name": "Python 3",
   "language": "python",
   "name": "python3"
  },
  "language_info": {
   "codemirror_mode": {
    "name": "ipython",
    "version": 2
   },
   "file_extension": ".py",
   "mimetype": "text/x-python",
   "name": "python",
   "nbconvert_exporter": "python",
   "pygments_lexer": "ipython2",
   "version": "2.7.6"
  }
 },
 "nbformat": 4,
 "nbformat_minor": 0
}
